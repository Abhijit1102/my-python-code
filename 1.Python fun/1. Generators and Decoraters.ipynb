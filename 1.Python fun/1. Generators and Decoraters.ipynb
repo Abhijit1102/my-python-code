{
 "cells": [
  {
   "cell_type": "code",
   "execution_count": 40,
   "id": "eae4616e",
   "metadata": {},
   "outputs": [],
   "source": [
    "# list function\n",
    "def sqr_nums(num):\n",
    "    result = []\n",
    "    for i in num:\n",
    "        result.append(i*i)\n",
    "    return result"
   ]
  },
  {
   "cell_type": "code",
   "execution_count": 41,
   "id": "93a46f75",
   "metadata": {},
   "outputs": [
    {
     "data": {
      "text/plain": [
       "[1, 4, 9, 16]"
      ]
     },
     "execution_count": 41,
     "metadata": {},
     "output_type": "execute_result"
    }
   ],
   "source": [
    "sqr_nums([1,2,3,4])"
   ]
  },
  {
   "cell_type": "code",
   "execution_count": 42,
   "id": "bda819b2",
   "metadata": {},
   "outputs": [],
   "source": [
    "# generators\n",
    "def sqr_nums(num):\n",
    "    for i in num:\n",
    "        yield(i*i)"
   ]
  },
  {
   "cell_type": "code",
   "execution_count": 43,
   "id": "d3607bd8",
   "metadata": {},
   "outputs": [
    {
     "data": {
      "text/plain": [
       "<generator object sqr_nums at 0x00000243E33BCA50>"
      ]
     },
     "execution_count": 43,
     "metadata": {},
     "output_type": "execute_result"
    }
   ],
   "source": [
    "sqr_nums([1,2,3,4])"
   ]
  },
  {
   "cell_type": "code",
   "execution_count": 44,
   "id": "953b3dba",
   "metadata": {},
   "outputs": [],
   "source": [
    "my_nums=sqr_nums([1,2,3,4])"
   ]
  },
  {
   "cell_type": "code",
   "execution_count": 45,
   "id": "e544551f",
   "metadata": {
    "scrolled": true
   },
   "outputs": [
    {
     "name": "stdout",
     "output_type": "stream",
     "text": [
      "1\n",
      "4\n",
      "9\n",
      "16\n"
     ]
    }
   ],
   "source": [
    "print (next(my_nums))\n",
    "print (next(my_nums))\n",
    "print (next(my_nums))\n",
    "print (next(my_nums)) #next ouput error"
   ]
  },
  {
   "cell_type": "code",
   "execution_count": 46,
   "id": "37f05f90",
   "metadata": {},
   "outputs": [],
   "source": [
    "my_num1=sqr_nums([1,2,3,4])"
   ]
  },
  {
   "cell_type": "code",
   "execution_count": 47,
   "id": "12267e4a",
   "metadata": {
    "scrolled": true
   },
   "outputs": [
    {
     "name": "stdout",
     "output_type": "stream",
     "text": [
      "1\n",
      "4\n",
      "9\n",
      "16\n"
     ]
    }
   ],
   "source": [
    "for num in my_num1:\n",
    "      print(num)"
   ]
  },
  {
   "cell_type": "code",
   "execution_count": 48,
   "id": "ab8453d8",
   "metadata": {},
   "outputs": [
    {
     "name": "stdout",
     "output_type": "stream",
     "text": [
      "<generator object <genexpr> at 0x00000243E33BCF90>\n"
     ]
    }
   ],
   "source": [
    "# list compresshension\n",
    "my_nums = (x*x for x in [1,2,3,4])\n",
    "print(my_nums)"
   ]
  },
  {
   "cell_type": "code",
   "execution_count": 50,
   "id": "0ee1e82f",
   "metadata": {},
   "outputs": [
    {
     "name": "stdout",
     "output_type": "stream",
     "text": [
      "[1, 4, 9, 16]\n"
     ]
    }
   ],
   "source": [
    "# list compresshension\n",
    "my_nums = (x*x for x in [1,2,3,4])\n",
    "print (list(my_nums))"
   ]
  },
  {
   "cell_type": "markdown",
   "id": "5ac3876e",
   "metadata": {},
   "source": [
    "**Generators are better it does not hold memmories of data**\n",
    "\n",
    "**Python Generator are a simple way of creating iterators**"
   ]
  },
  {
   "cell_type": "markdown",
   "id": "89fdc171",
   "metadata": {},
   "source": [
    "## Closers"
   ]
  },
  {
   "cell_type": "code",
   "execution_count": 54,
   "id": "837f556d",
   "metadata": {},
   "outputs": [],
   "source": [
    "def outer_function():\n",
    "    message = \"Hi\"\n",
    "    \n",
    "    def inner_function():\n",
    "        print(message)\n",
    "    return inner_function()"
   ]
  },
  {
   "cell_type": "code",
   "execution_count": 55,
   "id": "b71a0314",
   "metadata": {},
   "outputs": [
    {
     "name": "stdout",
     "output_type": "stream",
     "text": [
      "Hi\n"
     ]
    }
   ],
   "source": [
    "outer_function()"
   ]
  },
  {
   "cell_type": "code",
   "execution_count": 56,
   "id": "e0e25fe3",
   "metadata": {},
   "outputs": [],
   "source": [
    "def outer_function():\n",
    "    message = \"Hi\"\n",
    "    \n",
    "    def inner_function():\n",
    "        print(message)\n",
    "    return inner_function"
   ]
  },
  {
   "cell_type": "code",
   "execution_count": 57,
   "id": "b9dbb52e",
   "metadata": {},
   "outputs": [
    {
     "data": {
      "text/plain": [
       "<function __main__.outer_function.<locals>.inner_function()>"
      ]
     },
     "execution_count": 57,
     "metadata": {},
     "output_type": "execute_result"
    }
   ],
   "source": [
    "outer_function()"
   ]
  },
  {
   "cell_type": "code",
   "execution_count": 58,
   "id": "335fbe9a",
   "metadata": {},
   "outputs": [],
   "source": [
    "my_func = outer_function()"
   ]
  },
  {
   "cell_type": "code",
   "execution_count": 61,
   "id": "d43870f6",
   "metadata": {},
   "outputs": [
    {
     "name": "stdout",
     "output_type": "stream",
     "text": [
      "Hi\n",
      "Hi\n",
      "Hi\n"
     ]
    }
   ],
   "source": [
    "my_func()\n",
    "my_func()\n",
    "my_func()"
   ]
  },
  {
   "cell_type": "code",
   "execution_count": 67,
   "id": "adfe9510",
   "metadata": {},
   "outputs": [
    {
     "name": "stdout",
     "output_type": "stream",
     "text": [
      "Hi\n",
      "Bye\n"
     ]
    }
   ],
   "source": [
    "def outer_function(msg):\n",
    "    message = msg\n",
    "    \n",
    "    def inner_function():\n",
    "        print(message)\n",
    "    return inner_function\n",
    "\n",
    "hi_func = outer_function(\"Hi\")\n",
    "bye_func = outer_function(\"Bye\")\n",
    "\n",
    "hi_func()\n",
    "bye_func()"
   ]
  },
  {
   "cell_type": "code",
   "execution_count": 68,
   "id": "8783acca",
   "metadata": {
    "scrolled": true
   },
   "outputs": [
    {
     "name": "stdout",
     "output_type": "stream",
     "text": [
      "Hi\n",
      "Bye\n"
     ]
    }
   ],
   "source": [
    "def outer_function(msg):\n",
    "    \n",
    "    def inner_function():\n",
    "        print(msg)\n",
    "    return inner_function\n",
    "\n",
    "hi_func = outer_function(\"Hi\")\n",
    "bye_func = outer_function(\"Bye\")\n",
    "\n",
    "hi_func()\n",
    "bye_func()"
   ]
  },
  {
   "cell_type": "markdown",
   "id": "b03599a9",
   "metadata": {},
   "source": [
    "# Decorators"
   ]
  },
  {
   "cell_type": "code",
   "execution_count": 74,
   "id": "e3103348",
   "metadata": {},
   "outputs": [
    {
     "name": "stdout",
     "output_type": "stream",
     "text": [
      "display function ran\n"
     ]
    }
   ],
   "source": [
    "def decorator_function(original_function):\n",
    "    def wrapper_function():\n",
    "        return original_function()\n",
    "    return wrapper_function\n",
    "\n",
    "def display():\n",
    "    print(\"display function ran\")\n",
    "    \n",
    "decorated_display = decorator_function(display)\n",
    "\n",
    "decorated_display()"
   ]
  },
  {
   "cell_type": "code",
   "execution_count": 75,
   "id": "3de9f494",
   "metadata": {},
   "outputs": [
    {
     "name": "stdout",
     "output_type": "stream",
     "text": [
      "wrapper executed this before display\n",
      "display function ran\n"
     ]
    }
   ],
   "source": [
    "def decorator_function(original_function):\n",
    "    def wrapper_function():\n",
    "        print(\"wrapper executed this before {}\".format(original_function.__name__))\n",
    "        return original_function()\n",
    "    return wrapper_function\n",
    "\n",
    "def display():\n",
    "    print(\"display function ran\")\n",
    "    \n",
    "decorated_display = decorator_function(display)\n",
    "\n",
    "decorated_display()\n"
   ]
  },
  {
   "cell_type": "code",
   "execution_count": 76,
   "id": "9e439fe7",
   "metadata": {},
   "outputs": [
    {
     "name": "stdout",
     "output_type": "stream",
     "text": [
      "wrapper executed this before display\n",
      "display function ran\n"
     ]
    }
   ],
   "source": [
    "def decorator_function(original_function):\n",
    "    def wrapper_function():\n",
    "        print(\"wrapper executed this before {}\".format(original_function.__name__))\n",
    "        return original_function()\n",
    "    return wrapper_function\n",
    "\n",
    "@decorator_function\n",
    "def display():\n",
    "    print(\"display function ran\")\n",
    "    \n",
    "display()"
   ]
  },
  {
   "cell_type": "code",
   "execution_count": 78,
   "id": "b70e9bf1",
   "metadata": {},
   "outputs": [
    {
     "name": "stdout",
     "output_type": "stream",
     "text": [
      "display_info ran with argument(Abhijt, 27)\n"
     ]
    }
   ],
   "source": [
    "def decorator_function(original_function):\n",
    "    def wrapper_function():\n",
    "        print(\"wrapper executed this before {}\".format(original_function.__name__))\n",
    "        return original_function()\n",
    "    return wrapper_function\n",
    "\n",
    "@decorator_function\n",
    "def display():\n",
    "    print(\"display function ran\")\n",
    " \n",
    "def display_info(name, age):\n",
    "    print(\"display_info ran with argument({}, {})\".format(name, age))\n",
    "    \n",
    "    \n",
    "display_info(\"Abhijt\",27)    "
   ]
  },
  {
   "cell_type": "code",
   "execution_count": 79,
   "id": "df141803",
   "metadata": {},
   "outputs": [
    {
     "name": "stdout",
     "output_type": "stream",
     "text": [
      "wrapper executed this before display_info\n",
      "display_info ran with argument(Abhijt, 27)\n"
     ]
    }
   ],
   "source": [
    "def decorator_function(original_function):\n",
    "    def wrapper_function(*args, **kwargs):\n",
    "        print(\"wrapper executed this before {}\".format(original_function.__name__))\n",
    "        return original_function(*args, **kwargs)\n",
    "    return wrapper_function\n",
    "\n",
    "def display():\n",
    "    print(\"display function ran\")\n",
    "\n",
    "@decorator_function\n",
    "def display_info(name, age):\n",
    "    print(\"display_info ran with argument({}, {})\".format(name, age))\n",
    "    \n",
    "    \n",
    "display_info(\"Abhijt\",27)    "
   ]
  },
  {
   "cell_type": "code",
   "execution_count": null,
   "id": "36926785",
   "metadata": {},
   "outputs": [],
   "source": []
  },
  {
   "cell_type": "code",
   "execution_count": null,
   "id": "70b2436e",
   "metadata": {},
   "outputs": [],
   "source": []
  },
  {
   "cell_type": "code",
   "execution_count": null,
   "id": "162cb5af",
   "metadata": {},
   "outputs": [],
   "source": []
  }
 ],
 "metadata": {
  "kernelspec": {
   "display_name": "Python 3 (ipykernel)",
   "language": "python",
   "name": "python3"
  },
  "language_info": {
   "codemirror_mode": {
    "name": "ipython",
    "version": 3
   },
   "file_extension": ".py",
   "mimetype": "text/x-python",
   "name": "python",
   "nbconvert_exporter": "python",
   "pygments_lexer": "ipython3",
   "version": "3.10.9"
  }
 },
 "nbformat": 4,
 "nbformat_minor": 5
}
