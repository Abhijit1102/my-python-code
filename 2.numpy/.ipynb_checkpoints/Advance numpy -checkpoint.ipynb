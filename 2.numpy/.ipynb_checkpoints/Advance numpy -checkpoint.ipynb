{
 "cells": [
  {
   "cell_type": "markdown",
   "id": "e68d3a21",
   "metadata": {},
   "source": [
    "# Numpy array vs Python list"
   ]
  },
  {
   "cell_type": "code",
   "execution_count": 2,
   "id": "78924269",
   "metadata": {},
   "outputs": [],
   "source": [
    "import numpy as np"
   ]
  },
  {
   "cell_type": "code",
   "execution_count": 3,
   "id": "f06ec1ea",
   "metadata": {},
   "outputs": [],
   "source": [
    "# speed\n",
    "# list\n",
    "a =[i for i in range(10000000)]\n",
    "b = [i for i in range(10000000,20000000)]"
   ]
  },
  {
   "cell_type": "code",
   "execution_count": 4,
   "id": "20078fba",
   "metadata": {},
   "outputs": [
    {
     "name": "stdout",
     "output_type": "stream",
     "text": [
      "4.196815252304077\n"
     ]
    }
   ],
   "source": [
    "c = []\n",
    "\n",
    "import time\n",
    "\n",
    "start = time.time()\n",
    "\n",
    "for i in range(len(a)):\n",
    "    c.append(a[i]+b[i])\n",
    "    \n",
    "print(time.time()-start)    "
   ]
  },
  {
   "cell_type": "code",
   "execution_count": 7,
   "id": "a2e7ccab",
   "metadata": {},
   "outputs": [
    {
     "name": "stdout",
     "output_type": "stream",
     "text": [
      "0.15189313888549805\n"
     ]
    }
   ],
   "source": [
    "# numpy\n",
    "\n",
    "a = np.arange(10000000)\n",
    "b = np.arange(10000000,20000000)\n",
    "\n",
    "start = time.time()\n",
    "c = a + b\n",
    "print(time.time()-start)"
   ]
  },
  {
   "cell_type": "code",
   "execution_count": 8,
   "id": "f1bd9bdf",
   "metadata": {},
   "outputs": [
    {
     "data": {
      "text/plain": [
       "27.933333333333337"
      ]
     },
     "execution_count": 8,
     "metadata": {},
     "output_type": "execute_result"
    }
   ],
   "source": [
    "4.19/0.15"
   ]
  },
  {
   "cell_type": "code",
   "execution_count": 9,
   "id": "dcde4bc9",
   "metadata": {},
   "outputs": [],
   "source": [
    "# list is referencial array"
   ]
  },
  {
   "cell_type": "code",
   "execution_count": 10,
   "id": "150781c7",
   "metadata": {},
   "outputs": [
    {
     "data": {
      "text/plain": [
       "89095160"
      ]
     },
     "execution_count": 10,
     "metadata": {},
     "output_type": "execute_result"
    }
   ],
   "source": [
    "# in terms of memory\n",
    "a = [i for i in range(10000000)]\n",
    "\n",
    "import sys\n",
    "\n",
    "sys.getsizeof(a) #bits"
   ]
  },
  {
   "cell_type": "code",
   "execution_count": 13,
   "id": "de5177e1",
   "metadata": {},
   "outputs": [
    {
     "data": {
      "text/plain": [
       "10000112"
      ]
     },
     "execution_count": 13,
     "metadata": {},
     "output_type": "execute_result"
    }
   ],
   "source": [
    "a = np.arange(10000000,dtype=np.int8)\n",
    "\n",
    "sys.getsizeof(a)"
   ]
  },
  {
   "cell_type": "code",
   "execution_count": 14,
   "id": "d9bb348d",
   "metadata": {},
   "outputs": [],
   "source": [
    "# convience in numpy"
   ]
  },
  {
   "cell_type": "markdown",
   "id": "f8abfba7",
   "metadata": {},
   "source": [
    "# Advance indexing"
   ]
  },
  {
   "cell_type": "code",
   "execution_count": 16,
   "id": "1e649768",
   "metadata": {},
   "outputs": [
    {
     "data": {
      "text/plain": [
       "array([[ 0,  1,  2],\n",
       "       [ 3,  4,  5],\n",
       "       [ 6,  7,  8],\n",
       "       [ 9, 10, 11]])"
      ]
     },
     "execution_count": 16,
     "metadata": {},
     "output_type": "execute_result"
    }
   ],
   "source": [
    "a = np.arange(12).reshape(4,3)\n",
    "a"
   ]
  },
  {
   "cell_type": "code",
   "execution_count": 17,
   "id": "a10caa36",
   "metadata": {},
   "outputs": [
    {
     "data": {
      "text/plain": [
       "4"
      ]
     },
     "execution_count": 17,
     "metadata": {},
     "output_type": "execute_result"
    }
   ],
   "source": [
    "a[1,1]"
   ]
  },
  {
   "cell_type": "code",
   "execution_count": 18,
   "id": "e7c4ada0",
   "metadata": {},
   "outputs": [
    {
     "data": {
      "text/plain": [
       "array([[4, 5],\n",
       "       [7, 8]])"
      ]
     },
     "execution_count": 18,
     "metadata": {},
     "output_type": "execute_result"
    }
   ],
   "source": [
    "a[1:3,1:3]"
   ]
  },
  {
   "cell_type": "markdown",
   "id": "c2800733",
   "metadata": {},
   "source": [
    "# fancy indexing"
   ]
  },
  {
   "cell_type": "code",
   "execution_count": 19,
   "id": "fd0d218c",
   "metadata": {},
   "outputs": [
    {
     "data": {
      "text/plain": [
       "array([[ 0,  1,  2],\n",
       "       [ 3,  4,  5],\n",
       "       [ 6,  7,  8],\n",
       "       [ 9, 10, 11]])"
      ]
     },
     "execution_count": 19,
     "metadata": {},
     "output_type": "execute_result"
    }
   ],
   "source": [
    "a"
   ]
  },
  {
   "cell_type": "code",
   "execution_count": 20,
   "id": "93d84e34",
   "metadata": {},
   "outputs": [
    {
     "data": {
      "text/plain": [
       "array([[ 0,  1,  2],\n",
       "       [ 6,  7,  8],\n",
       "       [ 9, 10, 11]])"
      ]
     },
     "execution_count": 20,
     "metadata": {},
     "output_type": "execute_result"
    }
   ],
   "source": [
    "a[[0,2,3]]"
   ]
  },
  {
   "cell_type": "code",
   "execution_count": 21,
   "id": "50191729",
   "metadata": {},
   "outputs": [
    {
     "data": {
      "text/plain": [
       "array([[ 0,  1,  2,  3],\n",
       "       [ 4,  5,  6,  7],\n",
       "       [ 8,  9, 10, 11],\n",
       "       [12, 13, 14, 15],\n",
       "       [16, 17, 18, 19],\n",
       "       [20, 21, 22, 23]])"
      ]
     },
     "execution_count": 21,
     "metadata": {},
     "output_type": "execute_result"
    }
   ],
   "source": [
    "a = np.arange(24).reshape(6,4)\n",
    "a"
   ]
  },
  {
   "cell_type": "code",
   "execution_count": 22,
   "id": "ae571844",
   "metadata": {},
   "outputs": [
    {
     "data": {
      "text/plain": [
       "array([[ 0,  1,  2,  3],\n",
       "       [ 8,  9, 10, 11],\n",
       "       [12, 13, 14, 15],\n",
       "       [20, 21, 22, 23]])"
      ]
     },
     "execution_count": 22,
     "metadata": {},
     "output_type": "execute_result"
    }
   ],
   "source": [
    "a[[0,2,3,5]]"
   ]
  },
  {
   "cell_type": "code",
   "execution_count": 23,
   "id": "ed9a2b89",
   "metadata": {},
   "outputs": [
    {
     "data": {
      "text/plain": [
       "array([[ 0,  2,  3],\n",
       "       [ 4,  6,  7],\n",
       "       [ 8, 10, 11],\n",
       "       [12, 14, 15],\n",
       "       [16, 18, 19],\n",
       "       [20, 22, 23]])"
      ]
     },
     "execution_count": 23,
     "metadata": {},
     "output_type": "execute_result"
    }
   ],
   "source": [
    "a[:,[0,2,3]]"
   ]
  },
  {
   "cell_type": "markdown",
   "id": "0ec82e88",
   "metadata": {},
   "source": [
    "# Boolean indexing"
   ]
  },
  {
   "cell_type": "code",
   "execution_count": 25,
   "id": "e04bf923",
   "metadata": {},
   "outputs": [
    {
     "data": {
      "text/plain": [
       "array([[29, 90,  3, 15],\n",
       "       [66, 60, 33, 93],\n",
       "       [88, 69, 83, 44],\n",
       "       [62, 19, 46, 51],\n",
       "       [37, 82, 84, 19],\n",
       "       [26,  5, 47, 32]])"
      ]
     },
     "execution_count": 25,
     "metadata": {},
     "output_type": "execute_result"
    }
   ],
   "source": [
    "a = np.random.randint(1,100,24).reshape(6,4)\n",
    "a"
   ]
  },
  {
   "cell_type": "code",
   "execution_count": 26,
   "id": "a1f34a94",
   "metadata": {
    "scrolled": true
   },
   "outputs": [
    {
     "data": {
      "text/plain": [
       "array([90, 66, 60, 93, 88, 69, 83, 62, 51, 82, 84])"
      ]
     },
     "execution_count": 26,
     "metadata": {},
     "output_type": "execute_result"
    }
   ],
   "source": [
    "# find all integer greater than 50\n",
    "a[a>50]"
   ]
  },
  {
   "cell_type": "code",
   "execution_count": 35,
   "id": "f26f7f4d",
   "metadata": {},
   "outputs": [
    {
     "data": {
      "text/plain": [
       "array([90, 66, 60, 88, 44, 62, 46, 82, 84, 26, 32])"
      ]
     },
     "execution_count": 35,
     "metadata": {},
     "output_type": "execute_result"
    }
   ],
   "source": [
    "# find out even\n",
    "a[a % 2 == 0]"
   ]
  },
  {
   "cell_type": "code",
   "execution_count": 37,
   "id": "6e32f8f8",
   "metadata": {
    "scrolled": true
   },
   "outputs": [
    {
     "data": {
      "text/plain": [
       "array([90, 66, 60, 88, 62, 82, 84])"
      ]
     },
     "execution_count": 37,
     "metadata": {},
     "output_type": "execute_result"
    }
   ],
   "source": [
    "# find all integer greater than 50 and even\n",
    "a[(a>50) & (a %2 == 0)]"
   ]
  },
  {
   "cell_type": "code",
   "execution_count": 40,
   "id": "eb9c8c1b",
   "metadata": {},
   "outputs": [
    {
     "data": {
      "text/plain": [
       "array([29, 90,  3, 15, 66, 60, 33, 93, 88, 69, 83, 44, 62, 19, 46, 51, 37,\n",
       "       82, 19, 26,  5, 47, 32])"
      ]
     },
     "execution_count": 40,
     "metadata": {},
     "output_type": "execute_result"
    }
   ],
   "source": [
    "# find all number not divisible by 7\n",
    "a[a%7!=0]"
   ]
  },
  {
   "cell_type": "code",
   "execution_count": 43,
   "id": "f27db13d",
   "metadata": {},
   "outputs": [
    {
     "data": {
      "text/plain": [
       "array([29, 90,  3, 15, 66, 60, 33, 93, 88, 69, 83, 44, 62, 19, 46, 51, 37,\n",
       "       82, 19, 26,  5, 47, 32])"
      ]
     },
     "execution_count": 43,
     "metadata": {},
     "output_type": "execute_result"
    }
   ],
   "source": [
    "# find all number not divisible by 7\n",
    "a[~(a%7==0)]"
   ]
  },
  {
   "cell_type": "markdown",
   "id": "fcbc6db7",
   "metadata": {},
   "source": [
    "# Boardcasting\n",
    "- The term broadcasting describes how Numpy arrays with different shapes during arithmatic operations.\n",
    "- The smaller array is \"broadcast\" actoss the larger array so that they have compatible shapes."
   ]
  },
  {
   "cell_type": "code",
   "execution_count": null,
   "id": "8a10d71d",
   "metadata": {},
   "outputs": [],
   "source": []
  },
  {
   "cell_type": "code",
   "execution_count": null,
   "id": "a7de9990",
   "metadata": {},
   "outputs": [],
   "source": []
  },
  {
   "cell_type": "code",
   "execution_count": null,
   "id": "997bc67d",
   "metadata": {},
   "outputs": [],
   "source": []
  },
  {
   "cell_type": "code",
   "execution_count": null,
   "id": "a8867d44",
   "metadata": {},
   "outputs": [],
   "source": []
  },
  {
   "cell_type": "code",
   "execution_count": null,
   "id": "88f61dbe",
   "metadata": {},
   "outputs": [],
   "source": []
  },
  {
   "cell_type": "code",
   "execution_count": null,
   "id": "ec679aa3",
   "metadata": {},
   "outputs": [],
   "source": []
  },
  {
   "cell_type": "code",
   "execution_count": null,
   "id": "198e070e",
   "metadata": {},
   "outputs": [],
   "source": []
  },
  {
   "cell_type": "code",
   "execution_count": null,
   "id": "43268f43",
   "metadata": {},
   "outputs": [],
   "source": []
  }
 ],
 "metadata": {
  "kernelspec": {
   "display_name": "Python 3 (ipykernel)",
   "language": "python",
   "name": "python3"
  },
  "language_info": {
   "codemirror_mode": {
    "name": "ipython",
    "version": 3
   },
   "file_extension": ".py",
   "mimetype": "text/x-python",
   "name": "python",
   "nbconvert_exporter": "python",
   "pygments_lexer": "ipython3",
   "version": "3.10.9"
  }
 },
 "nbformat": 4,
 "nbformat_minor": 5
}
