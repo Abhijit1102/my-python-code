{
 "cells": [
  {
   "cell_type": "code",
   "execution_count": 1,
   "id": "648c2b8f",
   "metadata": {},
   "outputs": [],
   "source": [
    "import logging"
   ]
  },
  {
   "cell_type": "code",
   "execution_count": 2,
   "id": "168fa441",
   "metadata": {},
   "outputs": [],
   "source": [
    "logging.basicConfig(filename=\"test.log\", level= logging.INFO)"
   ]
  },
  {
   "cell_type": "code",
   "execution_count": 4,
   "id": "13559fcb",
   "metadata": {},
   "outputs": [],
   "source": [
    "logging.info(\"this is my line of execution\")"
   ]
  },
  {
   "cell_type": "code",
   "execution_count": 6,
   "id": "2cbaf6ec",
   "metadata": {},
   "outputs": [],
   "source": [
    "logging.error(\"Error\")\n",
    "logging.critical(\"Critical\")"
   ]
  },
  {
   "cell_type": "markdown",
   "id": "a7ed0b6c",
   "metadata": {},
   "source": [
    "## Hierarchy\n",
    "1. NOSET (deprecated)\n",
    "2. DEBUG\n",
    "3. INFO\n",
    "4. WARNING\n",
    "5. ERROR\n",
    "6. CRITICAL"
   ]
  },
  {
   "cell_type": "code",
   "execution_count": 7,
   "id": "226ae7a9",
   "metadata": {},
   "outputs": [],
   "source": [
    "logging.debug(\"this my debug\")"
   ]
  },
  {
   "cell_type": "code",
   "execution_count": 2,
   "id": "cc50e750",
   "metadata": {},
   "outputs": [],
   "source": [
    "logging.basicConfig(filename= \"test1.log\", level= logging.DEBUG, format= '%(asctime)s %(message)s')"
   ]
  },
  {
   "cell_type": "code",
   "execution_count": 4,
   "id": "64be7463",
   "metadata": {},
   "outputs": [],
   "source": [
    "logging.info(\"info loggin\")"
   ]
  },
  {
   "cell_type": "code",
   "execution_count": 5,
   "id": "445b40f1",
   "metadata": {},
   "outputs": [],
   "source": [
    "logging.shutdown()"
   ]
  },
  {
   "cell_type": "code",
   "execution_count": null,
   "id": "9d2f43dd",
   "metadata": {},
   "outputs": [],
   "source": [
    "logging.basicConfig(filename= \"test2.log\", level= logging.DEBUG, format= '%(asctime)s %(message)s', level= logging.DEBUG, format="
   ]
  },
  {
   "cell_type": "code",
   "execution_count": 2,
   "id": "18af7eb9",
   "metadata": {},
   "outputs": [],
   "source": [
    "logging.basicConfig(filename = \"test3.log\" , level = logging.DEBUG, format = '%(asctime)s %(name)s %(levelname)s  %(message)s')"
   ]
  },
  {
   "cell_type": "code",
   "execution_count": 3,
   "id": "769ee49f",
   "metadata": {},
   "outputs": [],
   "source": [
    "logging.info(\"3rd loggin\")"
   ]
  },
  {
   "cell_type": "code",
   "execution_count": 4,
   "id": "46ac2f7e",
   "metadata": {},
   "outputs": [],
   "source": [
    "l = [1,2,3,4,[4,5,6] , \"sudh\" ,\"kumar\"]"
   ]
  },
  {
   "cell_type": "code",
   "execution_count": 7,
   "id": "fda4df7d",
   "metadata": {},
   "outputs": [],
   "source": [
    "l_num  = []\n",
    "l_str = []\n",
    "for i in l:\n",
    "    if type(i) == list:\n",
    "        for j in i:\n",
    "            if type(j) == int:\n",
    "                l_num.append(j)\n",
    "                \n",
    "    elif type(i) == int:\n",
    "        l_num.append(i)\n",
    "    else:\n",
    "        if type(i) == str:\n",
    "            l_str.append(i)                "
   ]
  },
  {
   "cell_type": "code",
   "execution_count": 8,
   "id": "939b5881",
   "metadata": {},
   "outputs": [
    {
     "data": {
      "text/plain": [
       "[1, 2, 3, 4, 4, 5, 6]"
      ]
     },
     "execution_count": 8,
     "metadata": {},
     "output_type": "execute_result"
    }
   ],
   "source": [
    "l_num"
   ]
  },
  {
   "cell_type": "code",
   "execution_count": 9,
   "id": "647b6d54",
   "metadata": {
    "scrolled": true
   },
   "outputs": [
    {
     "data": {
      "text/plain": [
       "['sudh', 'kumar']"
      ]
     },
     "execution_count": 9,
     "metadata": {},
     "output_type": "execute_result"
    }
   ],
   "source": [
    "l_str"
   ]
  },
  {
   "cell_type": "markdown",
   "id": "9fe0197f",
   "metadata": {},
   "source": [
    "## using logging"
   ]
  },
  {
   "cell_type": "code",
   "execution_count": 10,
   "id": "a60ed2af",
   "metadata": {},
   "outputs": [],
   "source": [
    "l1_int = []\n",
    "l2_str = []\n",
    "for i in l : \n",
    "    logging.info(\"this is the start of my first for loop {}\".format(l))\n",
    "    logging.info(\"this is the value of i am logging {}\".format(i))\n",
    "    if type(i) == list:\n",
    "        for j in i :\n",
    "            logging.info(\"logggin my j {j} and i is {i}\".format(i = i ,j = j))\n",
    "            if type(j) == int :\n",
    "                l1_int.append(j)\n",
    "    elif type(i) == int :\n",
    "        l1_int.append(i)\n",
    "        \n",
    "    else :\n",
    "        if type(i) == str:\n",
    "            l2_str.append(i)\n",
    "logging.info(\"this is my final result  with all int {l1} ,with all str{l2}\".format(l1 =l1_int ,l2 =l2_str ))\n",
    "        "
   ]
  },
  {
   "cell_type": "code",
   "execution_count": 12,
   "id": "f6b4b915",
   "metadata": {},
   "outputs": [
    {
     "data": {
      "text/plain": [
       "([1, 2, 3, 4, 4, 5, 6], ['sudh', 'kumar'])"
      ]
     },
     "execution_count": 12,
     "metadata": {},
     "output_type": "execute_result"
    }
   ],
   "source": [
    "l1_int, l2_str"
   ]
  },
  {
   "cell_type": "code",
   "execution_count": null,
   "id": "e5ec55b1",
   "metadata": {},
   "outputs": [],
   "source": []
  },
  {
   "cell_type": "code",
   "execution_count": null,
   "id": "06dea694",
   "metadata": {},
   "outputs": [],
   "source": []
  },
  {
   "cell_type": "code",
   "execution_count": null,
   "id": "f2ed7a4f",
   "metadata": {},
   "outputs": [],
   "source": []
  },
  {
   "cell_type": "code",
   "execution_count": null,
   "id": "de7f7bff",
   "metadata": {},
   "outputs": [],
   "source": []
  }
 ],
 "metadata": {
  "kernelspec": {
   "display_name": "Python 3 (ipykernel)",
   "language": "python",
   "name": "python3"
  },
  "language_info": {
   "codemirror_mode": {
    "name": "ipython",
    "version": 3
   },
   "file_extension": ".py",
   "mimetype": "text/x-python",
   "name": "python",
   "nbconvert_exporter": "python",
   "pygments_lexer": "ipython3",
   "version": "3.10.9"
  }
 },
 "nbformat": 4,
 "nbformat_minor": 5
}
